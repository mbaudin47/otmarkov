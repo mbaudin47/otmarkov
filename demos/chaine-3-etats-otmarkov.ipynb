{
 "cells": [
  {
   "cell_type": "markdown",
   "metadata": {},
   "source": [
    "# Propagation d'incertitudes dans une chaîne de Markov\n",
    "\n",
    "## Résumé \n",
    "\n",
    "Dans ce document, on présente comment simuler une chaîne de Markov à l'aide d'une fonction de saut. Cette chaîne de Markov est semblable à celle associée à un Piecewise Deterministic Markov Process (PDMP) utilisé en fiabilité dynamique. Ce document utilise une implémentation fondée sur le module otmarkov.\n",
    "\n",
    "## Références\n",
    "\n",
    "* Demgne, Jeanne Ady. Modélisation d’actifs industriels pour l’optimisation robuste de stratégies de maintenance. Thèse de doctorat. Pau, 2015.\n",
    "* Davis, Mark HA. \"Piecewise‐deterministic Markov processes: a general class of non‐diffusion stochastic models.\" Journal of the Royal Statistical Society: Series B (Methodological) 46.3 (1984): 353-376."
   ]
  },
  {
   "cell_type": "markdown",
   "metadata": {},
   "source": [
    "## Description\n",
    "\n",
    "On considère une chaîne de Markov ainsi construite. \n",
    "\n",
    "L'état du système au début du n-ème saut est constitué \n",
    "* d'un vecteur aléatoire $\\boldsymbol{U}_n$,\n",
    "* d'un vecteur déterministe $\\boldsymbol{v}_n$. \n",
    "\n",
    "Le vecteur aléatoire $\\boldsymbol{U}_n$ est ici constitué de trois marginales indépendantes :\n",
    "* $K_n$ de loi Gaussienne,\n",
    "* $P_n$ de loi Gaussienne,\n",
    "* $R_n$ de loi Weibull tronquée.\n",
    "\n",
    "Le vecteur déterministe $\\boldsymbol{v}_n$ est constitué d'une variable déterministe :\n",
    "\n",
    "* $y_n\\in\\mathbb{R}$.\n",
    "\n",
    "L'état déterministe initial est donné par l'équation \n",
    "$$\n",
    "y_1 = 0.\n",
    "$$\n",
    "\n",
    "A chaque saut de la chaîne de Markov, nous générons une réalisation du vecteur aléatoire $\\boldsymbol{U}_n$ et appliquons la fonction de transition $\\boldsymbol{\\Phi}$ pour connaître la valeur du vecteur déterministe $\\boldsymbol{v}_{n+1}$. Dans notre application, on considère 3 sauts :\n",
    "\n",
    "$$\n",
    "m = 3.\n",
    "$$\n",
    "\n",
    "Dans cette chaîne de Markov, l'état à la fin du n-ème saut est déterminé par la fonction de transition $\\Phi$ :\n",
    "\n",
    "$$\n",
    "\\boldsymbol{v}_{n+1} = \\boldsymbol{\\Phi}(\\boldsymbol{U}_n, \\boldsymbol{v}_n),\n",
    "$$\n",
    "pour $n=1,...,m$. \n",
    "\n",
    "Dans notre application, la fonction de transition est définie par :\n",
    "\n",
    "$$\n",
    "\\boldsymbol{\\Phi}(\\boldsymbol{U}_n, y_n) = y_n + \\tau (1 - R_n) K_n P_n,\n",
    "$$\n",
    "\n",
    "où $\\boldsymbol{U}_n = (K_n, P_n, R_n)\\in\\mathbb{R}^3$ et $\\tau$ est une constante égale à \n",
    "\n",
    "$$\n",
    "\\tau = 12.\n",
    "$$\n",
    "\n",
    "Nous nous intéressons à la variable aléatoire $Y_4$, c'est à dire à la valeur de la variable $Y_n$ au terme des $m=3$ sauts. \n",
    "\n",
    "Nous considérons deux quantités d'intérêt :\n",
    "* l'espérance de $Y_4$ : $\\mathbb{E}(Y_4)$,\n",
    "* la probabilité que $Y_4$ soit plus grande qu'un seuil donné : $\\mathbb{P}(Y_4 > y_{lim})$.\n",
    "\n",
    "Dans notre application, nous considérons le seuil limite :\n",
    "$$\n",
    "y_{lim}=14.\n",
    "$$"
   ]
  },
  {
   "cell_type": "code",
   "execution_count": 1,
   "metadata": {},
   "outputs": [],
   "source": [
    "import openturns as ot\n",
    "import otmarkov"
   ]
  },
  {
   "cell_type": "markdown",
   "metadata": {},
   "source": [
    "Fonction de transition\n",
    "---"
   ]
  },
  {
   "cell_type": "markdown",
   "metadata": {},
   "source": [
    "Fonction qui permet d'aller de l'état courant à l'état suivant."
   ]
  },
  {
   "cell_type": "code",
   "execution_count": 2,
   "metadata": {},
   "outputs": [],
   "source": [
    "def model(X):\n",
    "    \"\"\"\n",
    "    The function which performs the step.\n",
    "\n",
    "    The inputs are:\n",
    "        * X[0] : K\n",
    "        * X[1] : P\n",
    "        * X[2] : R\n",
    "        * X[3] : tau\n",
    "        * X[4] : state\n",
    "\n",
    "    The output is the new state.\n",
    "\n",
    "    Parameters\n",
    "    ----------\n",
    "    X : ot.Point(5)\n",
    "        The input of the model.\n",
    "\n",
    "    Returns\n",
    "    -------\n",
    "    new_state : ot.Point(1)\n",
    "        The new state.\n",
    "    \"\"\"\n",
    "    X = ot.Point(X)\n",
    "    K, P, R, tau, state = X\n",
    "    new_state = state + tau * (1.0 - R) * K * P\n",
    "    verbose = False  # Set to True to print intermediate messages.\n",
    "    if verbose:\n",
    "        print(\"X=\", X, \"New state=\", new_state)\n",
    "    return [new_state]\n",
    "\n",
    "model_py = ot.PythonFunction(5, 1, model)"
   ]
  },
  {
   "cell_type": "markdown",
   "metadata": {},
   "source": [
    "We first set tau as a parameter, because it is constant. "
   ]
  },
  {
   "cell_type": "code",
   "execution_count": 3,
   "metadata": {},
   "outputs": [
    {
     "name": "stdout",
     "output_type": "stream",
     "text": [
      "ParametricEvaluation(class=PythonEvaluation name=OpenTURNSPythonFunction, parameters positions=[3], parameters=[x3 : 10], input positions=[0,1,2,4])\n"
     ]
    }
   ],
   "source": [
    "tau = 10.0\n",
    "reference_point = [tau]\n",
    "indices = [3]\n",
    "parametric_model = ot.ParametricFunction(model_py, indices, reference_point)\n",
    "print(parametric_model)"
   ]
  },
  {
   "cell_type": "markdown",
   "metadata": {},
   "source": [
    "Given the random input and the state, the parametric model returns the new state."
   ]
  },
  {
   "cell_type": "code",
   "execution_count": 4,
   "metadata": {},
   "outputs": [
    {
     "data": {
      "text/html": [
       "<p>[9.35]</p>"
      ],
      "text/plain": [
       "class=Point name=Unnamed dimension=1 values=[9.35]"
      ]
     },
     "execution_count": 4,
     "metadata": {},
     "output_type": "execute_result"
    }
   ],
   "source": [
    "K = 0.85\n",
    "P = 2.0\n",
    "R = 0.45\n",
    "state = 0.0\n",
    "X = [K, P, R, state]\n",
    "new_state = parametric_model(X)\n",
    "new_state"
   ]
  },
  {
   "cell_type": "markdown",
   "metadata": {},
   "source": [
    "The function just evaluated the following expression:"
   ]
  },
  {
   "cell_type": "code",
   "execution_count": 5,
   "metadata": {},
   "outputs": [
    {
     "data": {
      "text/plain": [
       "9.35"
      ]
     },
     "execution_count": 5,
     "metadata": {},
     "output_type": "execute_result"
    }
   ],
   "source": [
    "state + tau * (1.0 - R) * K * P"
   ]
  },
  {
   "cell_type": "markdown",
   "metadata": {},
   "source": [
    "Create a parametric function from the model. \n",
    "The input is random, the parameter is the state, the output is the new state."
   ]
  },
  {
   "cell_type": "code",
   "execution_count": 6,
   "metadata": {},
   "outputs": [],
   "source": [
    "initial_state = [0.0]\n",
    "indices = [3]\n",
    "step_function = ot.ParametricFunction(parametric_model, indices, initial_state)"
   ]
  },
  {
   "cell_type": "code",
   "execution_count": 7,
   "metadata": {},
   "outputs": [
    {
     "data": {
      "text/html": [
       "<p>[9.35]</p>"
      ],
      "text/plain": [
       "class=Point name=Unnamed dimension=1 values=[9.35]"
      ]
     },
     "execution_count": 7,
     "metadata": {},
     "output_type": "execute_result"
    }
   ],
   "source": [
    "K = 0.85\n",
    "P = 2.0\n",
    "R = 0.45\n",
    "X = [K, P, R]\n",
    "new_state = step_function(X)\n",
    "new_state"
   ]
  },
  {
   "cell_type": "markdown",
   "metadata": {},
   "source": [
    "## Distributions  des variables aléatoires K, P et R"
   ]
  },
  {
   "cell_type": "code",
   "execution_count": 8,
   "metadata": {},
   "outputs": [],
   "source": [
    "dist_K = ot.Normal()\n",
    "dist_P = ot.Normal()\n",
    "dist_R = ot.WeibullMin()\n",
    "Rmin = 1.0\n",
    "dist_R = ot.TruncatedDistribution(dist_R, Rmin, ot.TruncatedDistribution.UPPER)"
   ]
  },
  {
   "cell_type": "code",
   "execution_count": 9,
   "metadata": {},
   "outputs": [
    {
     "data": {
      "image/png": "[encoded data removed]",
      "text/plain": [
       "class=Graph name=pdf as a function of X0 implementation=class=GraphImplementation name=pdf as a function of X0 title=Densité de probabilité xTitle=R yTitle=PDF axes=ON grid=ON legendposition=topright legendFontSize=1 drawables=[class=Drawable name=Unnamed implementation=class=Curve name=Unnamed derived from class=DrawableImplementation name=Unnamed legend=Weibull data=class=Sample name=Unnamed implementation=class=SampleImplementation name=Unnamed size=129 dimension=2 data=[[-0.772762,0],[-0.753888,0],[-0.735015,0],[-0.716141,0],[-0.697267,0],[-0.678394,0],[-0.65952,0],[-0.640646,0],[-0.621773,0],[-0.602899,0],[-0.584025,0],[-0.565152,0],[-0.546278,0],[-0.527405,0],[-0.508531,0],[-0.489657,0],[-0.470784,0],[-0.45191,0],[-0.433036,0],[-0.414163,0],[-0.395289,0],[-0.376416,0],[-0.357542,0],[-0.338668,0],[-0.319795,0],[-0.300921,0],[-0.282047,0],[-0.263174,0],[-0.2443,0],[-0.225427,0],[-0.206553,0],[-0.187679,0],[-0.168806,0],[-0.149932,0],[-0.131058,0],[-0.112185,0],[-0.0933111,0],[-0.0744375,0],[-0.0555638,0],[-0.0366902,0],[-0.0178166,0],[0.00105705,1.58031],[0.0199307,1.55076],[0.0388043,1.52176],[0.0576779,1.49331],[0.0765516,1.46539],[0.0954252,1.438],[0.114299,1.41111],[0.133172,1.38473],[0.152046,1.35884],[0.17092,1.33343],[0.189793,1.3085],[0.208667,1.28404],[0.227541,1.26003],[0.246414,1.23647],[0.265288,1.21335],[0.284162,1.19067],[0.303035,1.16841],[0.321909,1.14656],[0.340782,1.12512],[0.359656,1.10409],[0.37853,1.08344],[0.397403,1.06319],[0.416277,1.04331],[0.435151,1.0238],[0.454024,1.00466],[0.472898,0.985878],[0.491771,0.967445],[0.510645,0.949357],[0.529519,0.931608],[0.548392,0.91419],[0.567266,0.897097],[0.58614,0.880325],[0.605013,0.863866],[0.623887,0.847714],[0.64276,0.831865],[0.661634,0.816312],[0.680508,0.801049],[0.699381,0.786073],[0.718255,0.771376],[0.737129,0.756953],[0.756002,0.742801],[0.774876,0.728913],[0.79375,0.715285],[0.812623,0.701911],[0.831497,0.688788],[0.85037,0.67591],[0.869244,0.663273],[0.888118,0.650872],[0.906991,0.638703],[0.925865,0.626761],[0.944739,0.615043],[0.963612,0.603544],[0.982486,0.592259],[1.00136,0],[1.02023,0],[1.03911,0],[1.05798,0],[1.07685,0],[1.09573,0],[1.1146,0],[1.13347,0],[1.15235,0],[1.17122,0],[1.1901,0],[1.20897,0],[1.22784,0],[1.24672,0],[1.26559,0],[1.28446,0],[1.30334,0],[1.32221,0],[1.34108,0],[1.35996,0],[1.37883,0],[1.39771,0],[1.41658,0],[1.43545,0],[1.45433,0],[1.4732,0],[1.49207,0],[1.51095,0],[1.52982,0],[1.54869,0],[1.56757,0],[1.58644,0],[1.60532,0],[1.62419,0],[1.64306,0]] color=red fillStyle=solid lineStyle=solid pointStyle=none lineWidth=2]"
      ]
     },
     "execution_count": 9,
     "metadata": {},
     "output_type": "execute_result"
    }
   ],
   "source": [
    "graph = dist_R.drawPDF()\n",
    "graph.setLegends([\"Weibull\"])\n",
    "graph.setTitle(\"Densité de probabilité\")\n",
    "graph.setXTitle(\"R\")\n",
    "graph"
   ]
  },
  {
   "cell_type": "markdown",
   "metadata": {},
   "source": [
    "We now create the random vector."
   ]
  },
  {
   "cell_type": "code",
   "execution_count": 10,
   "metadata": {},
   "outputs": [
    {
     "name": "stdout",
     "output_type": "stream",
     "text": [
      "ComposedDistribution(Normal(mu = 0, sigma = 1), Normal(mu = 0, sigma = 1), TruncatedDistribution(WeibullMin(beta = 1, alpha = 1, gamma = 0), bounds = [0, 1]), IndependentCopula(dimension = 3))\n"
     ]
    }
   ],
   "source": [
    "distribution = ot.ComposedDistribution([dist_K, dist_P, dist_R])\n",
    "print(distribution)"
   ]
  },
  {
   "cell_type": "markdown",
   "metadata": {},
   "source": [
    "## Perform several steps\n",
    "\n",
    "We now show how the step function is used."
   ]
  },
  {
   "cell_type": "markdown",
   "metadata": {},
   "source": [
    "The state is the parameter of the function."
   ]
  },
  {
   "cell_type": "code",
   "execution_count": 11,
   "metadata": {},
   "outputs": [],
   "source": [
    "initial_state = [0.0]\n",
    "step_function.setParameter(initial_state)"
   ]
  },
  {
   "cell_type": "markdown",
   "metadata": {},
   "source": [
    "The input is the random vector."
   ]
  },
  {
   "cell_type": "code",
   "execution_count": 12,
   "metadata": {},
   "outputs": [
    {
     "name": "stdout",
     "output_type": "stream",
     "text": [
      "[0.608202,-1.26617,0.426266]\n"
     ]
    }
   ],
   "source": [
    "X = distribution.getRealization()\n",
    "print(X)"
   ]
  },
  {
   "cell_type": "markdown",
   "metadata": {},
   "source": [
    "The output is the new state."
   ]
  },
  {
   "cell_type": "code",
   "execution_count": 13,
   "metadata": {},
   "outputs": [
    {
     "name": "stdout",
     "output_type": "stream",
     "text": [
      "[-4.41826]\n"
     ]
    }
   ],
   "source": [
    "new_state = step_function(X)\n",
    "print(new_state)"
   ]
  },
  {
   "cell_type": "markdown",
   "metadata": {},
   "source": [
    "In order to perform several steps, we loop over the iterations. In the following, we perform 4 steps in the Markov chain."
   ]
  },
  {
   "cell_type": "code",
   "execution_count": 14,
   "metadata": {},
   "outputs": [
    {
     "name": "stdout",
     "output_type": "stream",
     "text": [
      "State= [0]\n",
      "State= [0.221412]\n",
      "State= [-0.586886]\n",
      "State= [2.9754]\n",
      "State= [-25.6146]\n"
     ]
    }
   ],
   "source": [
    "initial_state = [0.0]\n",
    "state = ot.Point(initial_state)\n",
    "print(\"State=\", state)\n",
    "for i in range(4):\n",
    "    step_function.setParameter(state)\n",
    "    X = distribution.getRealization()\n",
    "    state = step_function(X)\n",
    "    print(\"State=\", state)"
   ]
  },
  {
   "cell_type": "markdown",
   "metadata": {},
   "source": [
    "In order to see how the state is passed as an input argument to the model, please set the `verbose` variable to `True` in the function. Notice, however, that this may print lots of messages if the sample is large."
   ]
  },
  {
   "cell_type": "markdown",
   "metadata": {},
   "source": [
    "## Create the Markov chain\n",
    "\n",
    "In the following script, we create a Markov chain that simulates the process. This creates a `PythonRandomVector` which provides a `getSample` method."
   ]
  },
  {
   "cell_type": "code",
   "execution_count": 15,
   "metadata": {},
   "outputs": [],
   "source": [
    "initial_state = [0.0]\n",
    "\n",
    "number_of_steps = 3\n",
    "\n",
    "mc_random_vector = otmarkov.MarkovChainRandomVector(\n",
    "    step_function, distribution, number_of_steps, initial_state\n",
    ")\n",
    "random_vector = ot.RandomVector(mc_random_vector)"
   ]
  },
  {
   "cell_type": "code",
   "execution_count": 16,
   "metadata": {},
   "outputs": [
    {
     "data": {
      "text/html": [
       "<TABLE><TR><TD></TD><TH>v0</TH></TR>\n",
       "<TR><TH>0</TH><TD>-1.605712</TD></TR>\n",
       "<TR><TH>1</TH><TD>-4.07117</TD></TR>\n",
       "<TR><TH>2</TH><TD>1.184156</TD></TR>\n",
       "<TR><TH>3</TH><TD>-2.770126</TD></TR>\n",
       "<TR><TH>4</TH><TD>1.134059</TD></TR>\n",
       "<TR><TH>5</TH><TD>-1.756089</TD></TR>\n",
       "<TR><TH>6</TH><TD>0.6660492</TD></TR>\n",
       "<TR><TH>7</TH><TD>-12.7858</TD></TR>\n",
       "<TR><TH>8</TH><TD>-15.99039</TD></TR>\n",
       "<TR><TH>9</TH><TD>-1.290372</TD></TR>\n",
       "</TABLE>"
      ],
      "text/plain": [
       "class=Sample name=Unnamed implementation=class=SampleImplementation name=Unnamed size=10 dimension=1 data=[[-1.60571],[-4.07117],[1.18416],[-2.77013],[1.13406],[-1.75609],[0.666049],[-12.7858],[-15.9904],[-1.29037]]"
      ]
     },
     "execution_count": 16,
     "metadata": {},
     "output_type": "execute_result"
    }
   ],
   "source": [
    "outputSample = random_vector.getSample(10)\n",
    "outputSample"
   ]
  },
  {
   "cell_type": "markdown",
   "metadata": {},
   "source": [
    "## Estimation de la sortie moyenne\n",
    "\n",
    "On souhaite estimer la moyenne de la sortie par un plan d'expériences de type Monte-Carlo simple. "
   ]
  },
  {
   "cell_type": "code",
   "execution_count": 17,
   "metadata": {},
   "outputs": [
    {
     "name": "stdout",
     "output_type": "stream",
     "text": [
      "Sortie Moyenne = -0.384317\n"
     ]
    }
   ],
   "source": [
    "# Estime la sortie moyenne\n",
    "sampleSize = 1000\n",
    "outputSample = random_vector.getSample(sampleSize)\n",
    "print(\"Sortie Moyenne = %f\" % (outputSample.computeMean()[0]))"
   ]
  },
  {
   "cell_type": "code",
   "execution_count": 18,
   "metadata": {},
   "outputs": [
    {
     "data": {
      "image/png": "[encoded data removed]",
      "text/plain": [
       "class=Graph name=v0 PDF implementation=class=GraphImplementation name=v0 PDF title=v0 PDF xTitle=v0 yTitle=PDF axes=ON grid=ON legendposition=topright legendFontSize=1 drawables=[class=Drawable name=Unnamed implementation=class=Curve name=Unnamed derived from class=DrawableImplementation name=Unnamed legend=v0 PDF data=class=Sample name=Unnamed implementation=class=SampleImplementation name=Unnamed size=188 dimension=2 data=[[-78.1969,0],[-76.829,0],[-76.829,0],[-76.829,0.000365515],[-74.0931,0.000365515],[-74.0931,0],[-74.0931,0],[-74.0931,0],[-71.3573,0],[-71.3573,0],[-71.3573,0],[-71.3573,0],[-68.6214,0],[-68.6214,0],[-68.6214,0],[-68.6214,0],[-65.8855,0],[-65.8855,0],[-65.8855,0],[-65.8855,0],[-63.1497,0],[-63.1497,0],[-63.1497,0],[-63.1497,0],[-60.4138,0],[-60.4138,0],[-60.4138,0],[-60.4138,0],[-57.6779,0],[-57.6779,0],[-57.6779,0],[-57.6779,0],[-54.9421,0],[-54.9421,0],[-54.9421,0],[-54.9421,0],[-52.2062,0],[-52.2062,0],[-52.2062,0],[-52.2062,0],[-49.4703,0],[-49.4703,0],[-49.4703,0],[-49.4703,0],[-46.7345,0],[-46.7345,0],[-46.7345,0],[-46.7345,0.000365515],[-43.9986,0.000365515],[-43.9986,0],[-43.9986,0],[-43.9986,0],[-41.2628,0],[-41.2628,0],[-41.2628,0],[-41.2628,0.00109655],[-38.5269,0.00109655],[-38.5269,0],[-38.5269,0],[-38.5269,0],[-35.791,0],[-35.791,0],[-35.791,0],[-35.791,0.00109655],[-33.0552,0.00109655],[-33.0552,0],[-33.0552,0],[-33.0552,0.000731031],[-30.3193,0.000731031],[-30.3193,0],[-30.3193,0],[-30.3193,0.00255861],[-27.5834,0.00255861],[-27.5834,0],[-27.5834,0],[-27.5834,0.00365515],[-24.8476,0.00365515],[-24.8476,0],[-24.8476,0],[-24.8476,0.00219309],[-22.1117,0.00219309],[-22.1117,0],[-22.1117,0],[-22.1117,0.00511722],[-19.3759,0.00511722],[-19.3759,0],[-19.3759,0],[-19.3759,0.00694479],[-16.64,0.00694479],[-16.64,0],[-16.64,0],[-16.64,0.00913788],[-13.9041,0.00913788],[-13.9041,0],[-13.9041,0],[-13.9041,0.0149861],[-11.1683,0.0149861],[-11.1683,0],[-11.1683,0],[-11.1683,0.0186413],[-8.4324,0.0186413],[-8.4324,0],[-8.4324,0],[-8.4324,0.0230275],[-5.69654,0.0230275],[-5.69654,0],[-5.69654,0],[-5.69654,0.0431308],[-2.96068,0.0431308],[-2.96068,0],[-2.96068,0],[-2.96068,0.0500756],[-0.224815,0.0500756],[-0.224815,0],[-0.224815,0],[-0.224815,0.0497101],[2.51105,0.0497101],[2.51105,0],[2.51105,0],[2.51105,0.0413032],[5.24691,0.0413032],[5.24691,0],[5.24691,0],[5.24691,0.0252206],[7.98277,0.0252206],[7.98277,0],[7.98277,0],[7.98277,0.0244895],[10.7186,0.0244895],[10.7186,0],[10.7186,0],[10.7186,0.00913788],[13.4545,0.00913788],[13.4545,0],[13.4545,0],[13.4545,0.0095034],[16.1904,0.0095034],[16.1904,0],[16.1904,0],[16.1904,0.00657928],[18.9262,0.00657928],[18.9262,0],[18.9262,0],[18.9262,0.00438618],[21.6621,0.00438618],[21.6621,0],[21.6621,0],[21.6621,0.00438618],[24.398,0.00438618],[24.398,0],[24.398,0],[24.398,0.00255861],[27.1338,0.00255861],[27.1338,0],[27.1338,0],[27.1338,0.000365515],[29.8697,0.000365515],[29.8697,0],[29.8697,0],[29.8697,0.00182758],[32.6055,0.00182758],[32.6055,0],[32.6055,0],[32.6055,0.00182758],[35.3414,0.00182758],[35.3414,0],[35.3414,0],[35.3414,0.000365515],[38.0773,0.000365515],[38.0773,0],[38.0773,0],[38.0773,0],[40.8131,0],[40.8131,0],[40.8131,0],[40.8131,0],[43.549,0],[43.549,0],[43.549,0],[43.549,0],[46.2849,0],[46.2849,0],[46.2849,0],[46.2849,0.000731031],[49.0207,0.000731031],[49.0207,0],[49.0207,0],[50.3887,0]] color=red fillStyle=solid lineStyle=solid pointStyle=none lineWidth=2]"
      ]
     },
     "execution_count": 18,
     "metadata": {},
     "output_type": "execute_result"
    }
   ],
   "source": [
    "# Draw histogram\n",
    "ot.HistogramFactory().build(outputSample).drawPDF()"
   ]
  },
  {
   "cell_type": "markdown",
   "metadata": {},
   "source": [
    "Estimation de la probabilité de dépasser un seuil\n",
    "---"
   ]
  },
  {
   "cell_type": "markdown",
   "metadata": {},
   "source": [
    "On souhaite estimer la probabilité que la sortie dépasse un seuil par une méthode de Monte-Carlo simple."
   ]
  },
  {
   "cell_type": "markdown",
   "metadata": {},
   "source": [
    "We use the `MarkovChain` class. This provides a `getRandomVector` method, which is a `CompositeRandomVector`. This object is required by the `ThresholdEvent` class."
   ]
  },
  {
   "cell_type": "code",
   "execution_count": 19,
   "metadata": {},
   "outputs": [],
   "source": [
    "markov_chain = otmarkov.MarkovChain(\n",
    "    step_function, distribution, number_of_steps, initial_state\n",
    ")\n",
    "composite_random_vector = markov_chain.getRandomVector()"
   ]
  },
  {
   "cell_type": "code",
   "execution_count": 20,
   "metadata": {},
   "outputs": [
    {
     "data": {
      "text/html": [
       "<p>[4.19947]</p>"
      ],
      "text/plain": [
       "class=Point name=Unnamed dimension=1 values=[4.19947]"
      ]
     },
     "execution_count": 20,
     "metadata": {},
     "output_type": "execute_result"
    }
   ],
   "source": [
    "composite_random_vector.getRealization()"
   ]
  },
  {
   "cell_type": "code",
   "execution_count": 21,
   "metadata": {},
   "outputs": [
    {
     "data": {
      "text/html": [
       "<TABLE><TR><TD></TD><TH>y0</TH></TR>\n",
       "<TR><TH>0</TH><TD>0.2806418</TD></TR>\n",
       "<TR><TH>1</TH><TD>6.713811</TD></TR>\n",
       "<TR><TH>2</TH><TD>-0.7764312</TD></TR>\n",
       "<TR><TH>3</TH><TD>-7.161773</TD></TR>\n",
       "<TR><TH>4</TH><TD>-2.208619</TD></TR>\n",
       "<TR><TH>5</TH><TD>-1.214301</TD></TR>\n",
       "<TR><TH>6</TH><TD>-4.244507</TD></TR>\n",
       "<TR><TH>7</TH><TD>2.53204</TD></TR>\n",
       "<TR><TH>8</TH><TD>6.053533</TD></TR>\n",
       "<TR><TH>9</TH><TD>-2.790379</TD></TR>\n",
       "</TABLE>"
      ],
      "text/plain": [
       "class=Sample name=Unnamed implementation=class=SampleImplementation name=Unnamed size=10 dimension=1 description=[y0] data=[[0.280642],[6.71381],[-0.776431],[-7.16177],[-2.20862],[-1.2143],[-4.24451],[2.53204],[6.05353],[-2.79038]]"
      ]
     },
     "execution_count": 21,
     "metadata": {},
     "output_type": "execute_result"
    }
   ],
   "source": [
    "composite_random_vector.getSample(10)"
   ]
  },
  {
   "cell_type": "code",
   "execution_count": 22,
   "metadata": {},
   "outputs": [],
   "source": [
    "Y_limite = 10.0\n",
    "event = ot.ThresholdEvent(composite_random_vector, ot.Greater(), Y_limite)"
   ]
  },
  {
   "cell_type": "code",
   "execution_count": 23,
   "metadata": {},
   "outputs": [],
   "source": [
    "# create a Monte Carlo algorithm\n",
    "Nbsimu = 1000\n",
    "experiment = ot.MonteCarloExperiment()\n",
    "algo = ot.ProbabilitySimulationAlgorithm(event, experiment)\n",
    "algo.setMaximumCoefficientOfVariation(0.05)\n",
    "algo.setBlockSize(10)\n",
    "algo.setMaximumOuterSampling(Nbsimu)\n",
    "algo.run()"
   ]
  },
  {
   "cell_type": "code",
   "execution_count": 24,
   "metadata": {},
   "outputs": [
    {
     "name": "stdout",
     "output_type": "stream",
     "text": [
      "P(Y > Y_limite)= 0.13558718861209987\n"
     ]
    }
   ],
   "source": [
    "# retrieve results\n",
    "result = algo.getResult()\n",
    "probability = result.getProbabilityEstimate()\n",
    "print(\"P(Y > Y_limite)=\", probability)"
   ]
  },
  {
   "cell_type": "code",
   "execution_count": 25,
   "metadata": {},
   "outputs": [
    {
     "data": {
      "image/png": "[encoded data removed]",
      "text/plain": [
       "class=Graph name=ProbabilitySimulationAlgorithm convergence graph at level 0.95 implementation=class=GraphImplementation name=ProbabilitySimulationAlgorithm convergence graph at level 0.95 title=ProbabilitySimulationAlgorithm convergence graph at level 0.95 xTitle=outer iteration yTitle=estimate axes=ON grid=ON legendposition=topright legendFontSize=1 drawables=[class=Drawable name=probability estimate implementation=class=Curve name=probability estimate derived from class=DrawableImplementation name=probability estimate legend=probability estimate data=class=Sample name=Unnamed implementation=class=SampleImplementation name=Unnamed size=281 dimension=2 data=[[1,0.1],[2,0.05],[3,0.0333333],[4,0.025],[5,0.06],[6,0.0833333],[7,0.0857143],[8,0.075],[9,0.0666667],[10,0.08],[11,0.0727273],[12,0.075],[13,0.0769231],[14,0.0785714],[15,0.1],[16,0.10625],[17,0.1],[18,0.105556],[19,0.110526],[20,0.11],[21,0.114286],[22,0.118182],[23,0.117391],[24,0.125],[25,0.12],[26,0.134615],[27,0.133333],[28,0.132143],[29,0.134483],[30,0.133333],[31,0.141935],[32,0.1375],[33,0.139394],[34,0.147059],[35,0.142857],[36,0.138889],[37,0.137838],[38,0.139474],[39,0.135897],[40,0.1325],[41,0.134146],[42,0.135714],[43,0.132558],[44,0.131818],[45,0.131111],[46,0.128261],[47,0.12766],[48,0.125],[49,0.122449],[50,0.122],[51,0.119608],[52,0.121154],[53,0.120755],[54,0.118519],[55,0.116364],[56,0.116071],[57,0.115789],[58,0.117241],[59,0.116949],[60,0.118333],[61,0.119672],[62,0.119355],[63,0.119048],[64,0.120313],[65,0.121538],[66,0.124242],[67,0.125373],[68,0.126471],[69,0.128986],[70,0.128571],[71,0.129577],[72,0.129167],[73,0.128767],[74,0.128378],[75,0.126667],[76,0.127632],[77,0.128571],[78,0.126923],[79,0.127848],[80,0.1275],[81,0.128395],[82,0.126829],[83,0.13012],[84,0.129762],[85,0.128235],[86,0.127907],[87,0.131034],[88,0.130682],[89,0.130337],[90,0.13],[91,0.12967],[92,0.128261],[93,0.127957],[94,0.126596],[95,0.128421],[96,0.129167],[97,0.127835],[98,0.126531],[99,0.125253],[100,0.126],[101,0.124752],[102,0.12549],[103,0.126214],[104,0.127885],[105,0.127619],[106,0.128302],[107,0.128037],[108,0.128704],[109,0.130275],[110,0.130909],[111,0.130631],[112,0.132143],[113,0.130973],[114,0.130702],[115,0.130435],[116,0.131034],[117,0.130769],[118,0.130508],[119,0.129412],[120,0.130833],[121,0.129752],[122,0.129508],[123,0.128455],[124,0.128226],[125,0.128],[126,0.127778],[127,0.128346],[128,0.129687],[129,0.128682],[130,0.128462],[131,0.128244],[132,0.129545],[133,0.130075],[134,0.129851],[135,0.13037],[136,0.130147],[137,0.129927],[138,0.128986],[139,0.128058],[140,0.127857],[141,0.128369],[142,0.128873],[143,0.128671],[144,0.130556],[145,0.129655],[146,0.128767],[147,0.129252],[148,0.12973],[149,0.12953],[150,0.129333],[151,0.129139],[152,0.128289],[153,0.128758],[154,0.128571],[155,0.129032],[156,0.128846],[157,0.128662],[158,0.128481],[159,0.128931],[160,0.13],[161,0.131677],[162,0.132099],[163,0.132515],[164,0.134146],[165,0.135758],[166,0.135542],[167,0.136527],[168,0.13631],[169,0.136686],[170,0.136471],[171,0.136842],[172,0.137209],[173,0.13815],[174,0.137931],[175,0.137714],[176,0.1375],[177,0.137288],[178,0.136517],[179,0.13743],[180,0.136667],[181,0.137569],[182,0.137363],[183,0.137158],[184,0.136413],[185,0.135676],[186,0.136022],[187,0.136898],[188,0.138298],[189,0.137566],[190,0.136842],[191,0.136649],[192,0.136979],[193,0.136788],[194,0.136598],[195,0.136923],[196,0.136224],[197,0.137563],[198,0.137374],[199,0.137186],[200,0.1375],[201,0.136816],[202,0.137129],[203,0.136946],[204,0.137255],[205,0.137073],[206,0.137379],[207,0.137198],[208,0.137019],[209,0.137321],[210,0.137619],[211,0.136967],[212,0.136792],[213,0.137089],[214,0.136449],[215,0.135814],[216,0.136111],[217,0.135945],[218,0.136697],[219,0.13653],[220,0.136364],[221,0.136652],[222,0.137387],[223,0.136771],[224,0.137054],[225,0.136889],[226,0.136726],[227,0.137004],[228,0.136404],[229,0.136681],[230,0.136957],[231,0.137662],[232,0.1375],[233,0.13691],[234,0.137607],[235,0.137872],[236,0.137288],[237,0.136709],[238,0.136975],[239,0.13682],[240,0.136667],[241,0.137759],[242,0.138017],[243,0.137449],[244,0.137705],[245,0.137143],[246,0.136992],[247,0.136437],[248,0.13629],[249,0.136145],[250,0.1356],[251,0.135857],[252,0.136111],[253,0.135968],[254,0.13622],[255,0.136078],[256,0.135547],[257,0.135798],[258,0.136434],[259,0.136293],[260,0.136538],[261,0.136398],[262,0.13626],[263,0.136502],[264,0.135985],[265,0.135472],[266,0.135338],[267,0.135206],[268,0.135075],[269,0.134944],[270,0.135185],[271,0.135424],[272,0.136029],[273,0.135531],[274,0.135401],[275,0.134909],[276,0.135507],[277,0.13574],[278,0.135252],[279,0.135125],[280,0.135357],[281,0.135587]] color=red fillStyle=solid lineStyle=solid pointStyle=none lineWidth=2,class=Drawable name=bounds implementation=class=Curve name=bounds derived from class=DrawableImplementation name=bounds legend=bounds data=class=Sample name=Unnamed implementation=class=SampleImplementation name=Unnamed size=281 dimension=2 data=[[1,-0.0959964],[2,-0.0504183],[3,-0.0341414],[4,-0.0258033],[5,-0.00899271],[6,0.0100063],[7,0.0168944],[8,0.014463],[9,0.0126361],[10,0.0242414],[11,0.0218558],[12,0.0255718],[13,0.0288569],[14,0.0317841],[15,0.0497325],[16,0.0562332],[17,0.0527756],[18,0.058532],[19,0.0638065],[20,0.064546],[21,0.0691685],[22,0.073445],[23,0.0737567],[24,0.081119],[25,0.0777649],[26,0.0911875],[27,0.0908814],[28,0.0906066],[29,0.0933541],[30,0.0930364],[31,0.101255],[32,0.0979983],[33,0.100262],[34,0.10765],[35,0.104488],[36,0.101507],[37,0.101077],[38,0.103012],[39,0.100303],[40,0.0977334],[41,0.0996193],[42,0.101426],[43,0.0990118],[44,0.09873],[45,0.0984634],[46,0.0962752],[47,0.0960757],[48,0.0940312],[49,0.0920718],[50,0.0919722],[51,0.0901322],[52,0.0917961],[53,0.0917135],[54,0.089982],[55,0.0883148],[56,0.0883014],[57,0.0882903],[58,0.0898287],[59,0.0897966],[60,0.091267],[61,0.0926945],[62,0.092624],[63,0.0925571],[64,0.0939067],[65,0.0952191],[66,0.0978754],[67,0.0990992],[68,0.100291],[69,0.102777],[70,0.102585],[71,0.103686],[72,0.103489],[73,0.103298],[74,0.103113],[75,0.101716],[76,0.102763],[77,0.103786],[78,0.102434],[79,0.103437],[80,0.103269],[81,0.104241],[82,0.10295],[83,0.10613],[84,0.105941],[85,0.104676],[86,0.10451],[87,0.107536],[88,0.107343],[89,0.107155],[90,0.106971],[91,0.106792],[92,0.105615],[93,0.105455],[94,0.104317],[95,0.106124],[96,0.10693],[97,0.105812],[98,0.104718],[99,0.103646],[100,0.104445],[101,0.103397],[102,0.104185],[103,0.104958],[104,0.106613],[105,0.106467],[106,0.1072],[107,0.107052],[108,0.107769],[109,0.109329],[110,0.110014],[111,0.109848],[112,0.111352],[113,0.110354],[114,0.11019],[115,0.110029],[116,0.110677],[117,0.110515],[118,0.110357],[119,0.109418],[120,0.110831],[121,0.109904],[122,0.109756],[123,0.108853],[124,0.108717],[125,0.108584],[126,0.108452],[127,0.10906],[128,0.110391],[129,0.109526],[130,0.109392],[131,0.109261],[132,0.110553],[133,0.11112],[134,0.11098],[135,0.111537],[136,0.111396],[137,0.111258],[138,0.110442],[139,0.109639],[140,0.109516],[141,0.110061],[142,0.110599],[143,0.110473],[144,0.11231],[145,0.111527],[146,0.110755],[147,0.111271],[148,0.111781],[149,0.111653],[150,0.111527],[151,0.111403],[152,0.110662],[153,0.11116],[154,0.111041],[155,0.111532],[156,0.111412],[157,0.111294],[158,0.111178],[159,0.111656],[160,0.112718],[161,0.114357],[162,0.114808],[163,0.115254],[164,0.116851],[165,0.118429],[166,0.118277],[167,0.119261],[168,0.119106],[169,0.119514],[170,0.119359],[171,0.119761],[172,0.120158],[173,0.1211],[174,0.12094],[175,0.120783],[176,0.120628],[177,0.120474],[178,0.119791],[179,0.120704],[180,0.120027],[181,0.120929],[182,0.120779],[183,0.12063],[184,0.119968],[185,0.119313],[186,0.119685],[187,0.120562],[188,0.121936],[189,0.121285],[190,0.12064],[191,0.120499],[192,0.120854],[193,0.120714],[194,0.120575],[195,0.120924],[196,0.120302],[197,0.121617],[198,0.121476],[199,0.121337],[200,0.121675],[201,0.121064],[202,0.121401],[203,0.121265],[204,0.121597],[205,0.121462],[206,0.121791],[207,0.121656],[208,0.121523],[209,0.121847],[210,0.122168],[211,0.121583],[212,0.121453],[213,0.121772],[214,0.121197],[215,0.120629],[216,0.120947],[217,0.120823],[218,0.121575],[219,0.12145],[220,0.121325],[221,0.121634],[222,0.12237],[223,0.121816],[224,0.122118],[225,0.121994],[226,0.121871],[227,0.12217],[228,0.121629],[229,0.121926],[230,0.122221],[231,0.122927],[232,0.122803],[233,0.122272],[234,0.122969],[235,0.123253],[236,0.122727],[237,0.122204],[238,0.122489],[239,0.122371],[240,0.122254],[241,0.123329],[242,0.123605],[243,0.123092],[244,0.123366],[245,0.122858],[246,0.122743],[247,0.122242],[248,0.12213],[249,0.122019],[250,0.121527],[251,0.1218],[252,0.122071],[253,0.121962],[254,0.12223],[255,0.122122],[256,0.121641],[257,0.121908],[258,0.122544],[259,0.122436],[260,0.122697],[261,0.122589],[262,0.122482],[263,0.12274],[264,0.122271],[265,0.121806],[266,0.121704],[267,0.121603],[268,0.121502],[269,0.121403],[270,0.121658],[271,0.121912],[272,0.122517],[273,0.122064],[274,0.121964],[275,0.121517],[276,0.122115],[277,0.122362],[278,0.121919],[279,0.121821],[280,0.122067],[281,0.122311]] color=green fillStyle=solid lineStyle=solid pointStyle=none lineWidth=1,class=Drawable name=Unnamed implementation=class=Curve name=Unnamed derived from class=DrawableImplementation name=Unnamed legend= data=class=Sample name=Unnamed implementation=class=SampleImplementation name=Unnamed size=281 dimension=2 data=[[1,0.295996],[2,0.150418],[3,0.100808],[4,0.0758033],[5,0.128993],[6,0.15666],[7,0.154534],[8,0.135537],[9,0.120697],[10,0.135759],[11,0.123599],[12,0.124428],[13,0.124989],[14,0.125359],[15,0.150268],[16,0.156267],[17,0.147224],[18,0.152579],[19,0.157246],[20,0.155454],[21,0.159403],[22,0.162919],[23,0.161026],[24,0.168881],[25,0.162235],[26,0.178043],[27,0.175785],[28,0.173679],[29,0.175611],[30,0.17363],[31,0.182616],[32,0.177002],[33,0.178526],[34,0.186468],[35,0.181226],[36,0.176271],[37,0.174599],[38,0.175936],[39,0.171492],[40,0.167267],[41,0.168673],[42,0.170002],[43,0.166104],[44,0.164906],[45,0.163759],[46,0.160247],[47,0.159243],[48,0.155969],[49,0.152826],[50,0.152028],[51,0.149083],[52,0.150512],[53,0.149796],[54,0.147055],[55,0.144413],[56,0.143841],[57,0.143289],[58,0.144654],[59,0.144102],[60,0.1454],[61,0.14665],[62,0.146086],[63,0.145538],[64,0.146718],[65,0.147858],[66,0.150609],[67,0.151647],[68,0.152651],[69,0.155194],[70,0.154558],[71,0.155469],[72,0.154844],[73,0.154236],[74,0.153643],[75,0.151617],[76,0.1525],[77,0.153357],[78,0.151412],[79,0.152259],[80,0.151731],[81,0.152549],[82,0.150709],[83,0.154111],[84,0.153582],[85,0.151794],[86,0.151304],[87,0.154533],[88,0.154021],[89,0.153519],[90,0.153029],[91,0.152549],[92,0.150907],[93,0.150459],[94,0.148875],[95,0.150718],[96,0.151403],[97,0.149858],[98,0.148343],[99,0.146859],[100,0.147555],[101,0.146108],[102,0.146796],[103,0.147469],[104,0.149156],[105,0.148771],[106,0.149403],[107,0.149022],[108,0.149639],[109,0.151222],[110,0.151804],[111,0.151414],[112,0.152934],[113,0.151593],[114,0.151213],[115,0.15084],[116,0.151392],[117,0.151023],[118,0.15066],[119,0.149405],[120,0.150836],[121,0.149601],[122,0.14926],[123,0.148057],[124,0.147734],[125,0.147416],[126,0.147103],[127,0.147633],[128,0.148984],[129,0.147839],[130,0.147531],[131,0.147228],[132,0.148538],[133,0.14903],[134,0.148721],[135,0.149204],[136,0.148898],[137,0.148596],[138,0.147529],[139,0.146476],[140,0.146198],[141,0.146677],[142,0.147148],[143,0.14687],[144,0.148801],[145,0.147784],[146,0.14678],[147,0.147232],[148,0.147678],[149,0.147407],[150,0.14714],[151,0.146875],[152,0.145917],[153,0.146356],[154,0.146102],[155,0.146533],[156,0.14628],[157,0.146031],[158,0.145784],[159,0.146206],[160,0.147282],[161,0.148997],[162,0.149389],[163,0.149776],[164,0.151442],[165,0.153086],[166,0.152807],[167,0.153793],[168,0.153513],[169,0.153859],[170,0.153582],[171,0.153923],[172,0.15426],[173,0.155201],[174,0.154922],[175,0.154645],[176,0.154372],[177,0.154102],[178,0.153243],[179,0.154156],[180,0.153307],[181,0.154209],[182,0.153947],[183,0.153687],[184,0.152858],[185,0.152038],[186,0.152358],[187,0.153235],[188,0.15466],[189,0.153848],[190,0.153044],[191,0.152799],[192,0.153104],[193,0.152862],[194,0.152621],[195,0.152922],[196,0.152147],[197,0.15351],[198,0.153271],[199,0.153035],[200,0.153325],[201,0.152568],[202,0.152857],[203,0.152627],[204,0.152912],[205,0.152684],[206,0.152967],[207,0.15274],[208,0.152516],[209,0.152794],[210,0.153071],[211,0.15235],[212,0.152132],[213,0.152407],[214,0.1517],[215,0.150999],[216,0.151276],[217,0.151067],[218,0.151819],[219,0.15161],[220,0.151402],[221,0.15167],[222,0.152405],[223,0.151727],[224,0.151989],[225,0.151784],[226,0.15158],[227,0.151839],[228,0.151178],[229,0.151436],[230,0.151692],[231,0.152398],[232,0.152197],[233,0.151548],[234,0.152245],[235,0.152491],[236,0.15185],[237,0.151213],[238,0.151461],[239,0.151269],[240,0.151079],[241,0.152189],[242,0.152428],[243,0.151805],[244,0.152044],[245,0.151427],[246,0.151241],[247,0.150633],[248,0.150451],[249,0.15027],[250,0.149673],[251,0.149913],[252,0.150151],[253,0.149975],[254,0.150211],[255,0.150035],[256,0.149453],[257,0.149688],[258,0.150325],[259,0.150151],[260,0.15038],[261,0.150208],[262,0.150037],[263,0.150264],[264,0.149698],[265,0.149137],[266,0.148972],[267,0.148809],[268,0.148647],[269,0.148486],[270,0.148712],[271,0.148937],[272,0.149542],[273,0.148998],[274,0.148838],[275,0.148301],[276,0.148899],[277,0.149118],[278,0.148585],[279,0.14843],[280,0.148647],[281,0.148864]] color=green fillStyle=solid lineStyle=solid pointStyle=none lineWidth=1]"
      ]
     },
     "execution_count": 25,
     "metadata": {},
     "output_type": "execute_result"
    }
   ],
   "source": [
    "graph = algo.drawProbabilityConvergence()\n",
    "graph.setLogScale(ot.GraphImplementation.LOGX)\n",
    "graph"
   ]
  },
  {
   "cell_type": "markdown",
   "metadata": {},
   "source": [
    "Estimation de la sortie moyenne - plans d'expériences\n",
    "---\n",
    "On souhaite estimer la moyenne de la sortie et expérimenter différents plan d'expériences : Monte-Carlo simple et séquence de Sobol'."
   ]
  },
  {
   "cell_type": "code",
   "execution_count": 26,
   "metadata": {},
   "outputs": [
    {
     "data": {
      "text/plain": [
       "9"
      ]
     },
     "execution_count": 26,
     "metadata": {},
     "output_type": "execute_result"
    }
   ],
   "source": [
    "distribution = markov_chain.getInputDistribution()\n",
    "input_dimension = distribution.getDimension()\n",
    "input_dimension"
   ]
  },
  {
   "cell_type": "code",
   "execution_count": 27,
   "metadata": {},
   "outputs": [
    {
     "data": {
      "text/plain": [
       "9"
      ]
     },
     "execution_count": 27,
     "metadata": {},
     "output_type": "execute_result"
    }
   ],
   "source": [
    "function = markov_chain.getFunction()\n",
    "function.getInputDimension()"
   ]
  },
  {
   "cell_type": "code",
   "execution_count": 28,
   "metadata": {},
   "outputs": [],
   "source": [
    "Nbsimu = 1000\n",
    "ot.RandomGenerator.SetSeed(1)\n",
    "myDOE = ot.MonteCarloExperiment(distribution, Nbsimu)\n",
    "mySample = myDOE.generate()\n",
    "Y = function(mySample)"
   ]
  },
  {
   "cell_type": "markdown",
   "metadata": {},
   "source": [
    "Calcul de la moyenne de la sortie"
   ]
  },
  {
   "cell_type": "code",
   "execution_count": 29,
   "metadata": {},
   "outputs": [
    {
     "name": "stdout",
     "output_type": "stream",
     "text": [
      "Y moyenne : 0.587896\n"
     ]
    }
   ],
   "source": [
    "yMoyenne = Y.computeMean()[0]\n",
    "print(\"Y moyenne : %f\" % (yMoyenne))"
   ]
  },
  {
   "cell_type": "markdown",
   "metadata": {},
   "source": [
    "Pour utiliser une séquence à faible discrépance, il suffit de reprendre le script précédent avec le plan d'expérience suivant."
   ]
  },
  {
   "cell_type": "code",
   "execution_count": 30,
   "metadata": {},
   "outputs": [],
   "source": [
    "Nbsimu = 1000\n",
    "sequence = ot.SobolSequence(input_dimension)\n",
    "experiment = ot.LowDiscrepancyExperiment(sequence, distribution, Nbsimu)\n",
    "experiment.setRandomize(True)\n",
    "mySample = experiment.generate()"
   ]
  },
  {
   "cell_type": "code",
   "execution_count": 31,
   "metadata": {},
   "outputs": [],
   "source": [
    "ot.RandomGenerator.SetSeed(1)\n",
    "Y = function(mySample)"
   ]
  },
  {
   "cell_type": "code",
   "execution_count": 32,
   "metadata": {},
   "outputs": [
    {
     "name": "stdout",
     "output_type": "stream",
     "text": [
      "Y moyenne : 0.066150\n"
     ]
    }
   ],
   "source": [
    "yMoyenne = Y.computeMean()[0]\n",
    "print(\"Y moyenne : %f\" % (yMoyenne))"
   ]
  },
  {
   "cell_type": "code",
   "execution_count": null,
   "metadata": {},
   "outputs": [],
   "source": []
  }
 ],
 "metadata": {
  "kernelspec": {
   "display_name": "Python 3",
   "language": "python",
   "name": "python3"
  },
  "language_info": {
   "codemirror_mode": {
    "name": "ipython",
    "version": 3
   },
   "file_extension": ".py",
   "mimetype": "text/x-python",
   "name": "python",
   "nbconvert_exporter": "python",
   "pygments_lexer": "ipython3",
   "version": "3.9.2"
  }
 },
 "nbformat": 4,
 "nbformat_minor": 2
}
