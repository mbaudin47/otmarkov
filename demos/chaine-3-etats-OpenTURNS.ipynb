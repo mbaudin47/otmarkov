{
 "cells": [
  {
   "cell_type": "markdown",
   "metadata": {},
   "source": [
    "# Propagation d'incertitudes dans une chaîne de Markov avec OpenTURNS\n",
    "\n",
    "## Résumé \n",
    "\n",
    "Dans ce document, on présente comment simuler une chaîne de Markov à l'aide d'une fonction de saut. Cette chaîne de Markov est semblable à celle associée à un Piecewise Deterministic Markov Process (PDMP) utilisé en fiabilité dynamique. Ce document utilise une implémentation fondée exclusivement sur OpenTURNS. Nous montrons d'abord une implémentation naïve, fondé sur une fonction Python associée à un nombre fixe d'appel à la fonction de transition. Puis nous montrons comment factoriser cette fonction de transition.\n",
    "\n",
    "## Références\n",
    "\n",
    "* Demgne, Jeanne Ady. Modélisation d’actifs industriels pour l’optimisation robuste de stratégies de maintenance. Thèse de doctorat. Pau, 2015.\n",
    "* Davis, Mark HA. \"Piecewise‐deterministic Markov processes: a general class of non‐diffusion stochastic models.\" Journal of the Royal Statistical Society: Series B (Methodological) 46.3 (1984): 353-376."
   ]
  },
  {
   "cell_type": "markdown",
   "metadata": {},
   "source": [
    "## Description\n",
    "\n",
    "On considère une chaîne de Markov ainsi construite. \n",
    "\n",
    "L'état du système au début du n-ème saut est constitué \n",
    "* d'un vecteur aléatoire $\\boldsymbol{U}_n$,\n",
    "* d'un vecteur déterministe $\\boldsymbol{v}_n$. \n",
    "\n",
    "Le vecteur aléatoire $\\boldsymbol{U}_n$ est ici constitué de trois marginales indépendantes :\n",
    "* $K_n$ de loi Gaussienne,\n",
    "* $P_n$ de loi Gaussienne,\n",
    "* $R_n$ de loi Weibull tronquée.\n",
    "\n",
    "Le vecteur déterministe $\\boldsymbol{v}_n$ est constitué d'une variable déterministe :\n",
    "\n",
    "* $y_n\\in\\mathbb{R}$.\n",
    "\n",
    "L'état déterministe initial est donné par l'équation \n",
    "$$\n",
    "y_1 = 0.\n",
    "$$\n",
    "\n",
    "A chaque saut de la chaîne de Markov, nous générons une réalisation du vecteur aléatoire $\\boldsymbol{U}_n$ et appliquons la fonction de transition $\\boldsymbol{\\Phi}$ pour connaître la valeur du vecteur déterministe $\\boldsymbol{v}_{n+1}$. Dans notre application, on considère 3 sauts :\n",
    "\n",
    "$$\n",
    "m = 3.\n",
    "$$\n",
    "\n",
    "Dans cette chaîne de Markov, l'état à la fin du n-ème saut est déterminé par la fonction de transition $\\Phi$ :\n",
    "\n",
    "$$\n",
    "\\boldsymbol{v}_{n+1} = \\boldsymbol{\\Phi}(\\boldsymbol{U}_n, \\boldsymbol{v}_n),\n",
    "$$\n",
    "pour $n=1,...,m$. \n",
    "\n",
    "Dans notre application, la fonction de transition est définie par :\n",
    "\n",
    "$$\n",
    "\\boldsymbol{\\Phi}(\\boldsymbol{U}_n, y_n) = y_n + \\tau (1 - R_n) K_n P_n,\n",
    "$$\n",
    "\n",
    "où $\\boldsymbol{U}_n = (K_n, P_n, R_n)\\in\\mathbb{R}^3$ et $\\tau$ est une constante égale à \n",
    "\n",
    "$$\n",
    "\\tau = 12.\n",
    "$$\n",
    "\n",
    "Nous nous intéressons à la variable aléatoire $Y_4$, c'est à dire à la valeur de la variable $Y_n$ au terme des $m=3$ sauts. \n",
    "\n",
    "Nous considérons deux quantités d'intérêt :\n",
    "* l'espérance de $Y_4$ : $\\mathbb{E}(Y_4)$,\n",
    "* la probabilité que $Y_4$ soit plus grande qu'un seuil donné : $\\mathbb{P}(Y_4 > y_{lim})$.\n",
    "\n",
    "Dans notre application, nous considérons le seuil limite :\n",
    "$$\n",
    "y_{lim}=14.\n",
    "$$"
   ]
  },
  {
   "cell_type": "markdown",
   "metadata": {},
   "source": [
    "Une implémentation naïve de cette chaîne de Markov consisterait à générer des nombres aléatoires selon les lois prescrites, puis à appliquer itérativement la fonction de transition $\\Phi$. L'objectif principal de ce document est de montrer comment utiliser OpenTURNS dans le but de clarifier la modélisation probabiliste. En particulier, l'idée principale consiste à  expliciter la dimension stochastique du problème : elle est égale à la dimension du vecteur aléatoire $U_n$ multipliée par le nombre de sauts $m$. \n",
    "\n",
    "Cette considération possède plusieurs avantages. \n",
    "* Elle rend beaucoup plus simple la simulation de Monte-Carlo.\n",
    "* Elle permet d'utiliser d'autres types de plans d'expériences, comme les séquences à faible discrépance par exemple. \n",
    "* Elle permet d'utiliser d'autres types de méthodes, comme par exemple la méthode FORM pour l'estimation d'une probabilité de dépassement de seuil. \n",
    "* Elle peut améliorer la performance en laissant OpenTURNS gérer l'évaluation du plan d'expériences au lieu d'utiliser une boucle. "
   ]
  },
  {
   "cell_type": "code",
   "execution_count": 1,
   "metadata": {},
   "outputs": [],
   "source": [
    "import openturns as ot\n",
    "from openturns.viewer import View"
   ]
  },
  {
   "cell_type": "markdown",
   "metadata": {},
   "source": [
    "Fonction de transition\n",
    "---"
   ]
  },
  {
   "cell_type": "markdown",
   "metadata": {},
   "source": [
    "Fonction qui permet d'aller de l'état courant à l'état suivant."
   ]
  },
  {
   "cell_type": "code",
   "execution_count": 2,
   "metadata": {},
   "outputs": [
    {
     "data": {
      "text/plain": [
       "9.35"
      ]
     },
     "execution_count": 2,
     "metadata": {},
     "output_type": "execute_result"
    }
   ],
   "source": [
    "def myFunctionSingleStep(K, P, tau, R, y):\n",
    "    # Perform one step.\n",
    "    new_y = y + tau * (1.0 - R) * K * P\n",
    "    return new_y\n",
    "\n",
    "\n",
    "y1 = 0.0  # Valeur initiale de la sortie\n",
    "d = 10.0\n",
    "K = 0.85\n",
    "P = 2.0\n",
    "R = 0.45\n",
    "y = myFunctionSingleStep(K, P, d, R, y1)\n",
    "y"
   ]
  },
  {
   "cell_type": "markdown",
   "metadata": {},
   "source": [
    "Implémentation de la fonction qui génère la sortie en fonction des entrées.\n",
    "-----\n",
    "Implémentation naïve : on calcule la sortie par trois appels à la fonction myFunctionSingleStep."
   ]
  },
  {
   "cell_type": "code",
   "execution_count": 3,
   "metadata": {},
   "outputs": [],
   "source": [
    "def myFunctionChain_naive(X):\n",
    "    y1 = 0.0  # Valeur initiale de l'état\n",
    "    tau = 10.0  # Constante\n",
    "    K1, P1, R1, K2, P2, R2, K3, P3, R3 = X\n",
    "    y2 = myFunctionSingleStep(K1, P1, tau, R1, y1)\n",
    "    y3 = myFunctionSingleStep(K2, P2, tau, R2, y2)\n",
    "    y4 = myFunctionSingleStep(K3, P3, tau, R3, y3)\n",
    "    return [y4]"
   ]
  },
  {
   "cell_type": "markdown",
   "metadata": {},
   "source": [
    "Implémentation factorisée : on réalise une boucle sur le nombre de sauts."
   ]
  },
  {
   "cell_type": "code",
   "execution_count": 4,
   "metadata": {},
   "outputs": [],
   "source": [
    "def myFunctionChain_factorisee(X):\n",
    "    # Nombre de variables dans l'état\n",
    "    nbVariablesEtat = 3  # K, P, R\n",
    "    # Nombre de sauts dans la chaîne\n",
    "    nbSauts = int(len(X) / nbVariablesEtat)\n",
    "    y1 = 0.0  # Valeur initiale de la sortie\n",
    "    tau = 10.0  # Constante\n",
    "    # Boucle sur les sauts\n",
    "    y = y1\n",
    "    for i in range(nbSauts):\n",
    "        K = X[nbVariablesEtat * i]\n",
    "        P = X[nbVariablesEtat * i + 1]\n",
    "        R = X[nbVariablesEtat * i + 2]\n",
    "        y = myFunctionSingleStep(K, P, tau, R, y)\n",
    "    return [y]"
   ]
  },
  {
   "cell_type": "markdown",
   "metadata": {},
   "source": [
    "## Distributions  des variables aléatoires K, P et R"
   ]
  },
  {
   "cell_type": "code",
   "execution_count": 5,
   "metadata": {},
   "outputs": [],
   "source": [
    "dist_K = ot.Normal()\n",
    "dist_P = ot.Normal()\n",
    "dist_R = ot.WeibullMin()\n",
    "Rmin = 1.0\n",
    "dist_R = ot.TruncatedDistribution(dist_R, Rmin, ot.TruncatedDistribution.UPPER)"
   ]
  },
  {
   "cell_type": "code",
   "execution_count": 6,
   "metadata": {},
   "outputs": [
    {
     "data": {
      "image/png": "[encoded data removed]",
      "text/plain": [
       "class=Graph name=pdf as a function of X0 implementation=class=GraphImplementation name=pdf as a function of X0 title=Densité de probabilité xTitle=R yTitle=PDF axes=ON grid=ON legendposition=topright legendFontSize=1 drawables=[class=Drawable name=Unnamed implementation=class=Curve name=Unnamed derived from class=DrawableImplementation name=Unnamed legend=Weibull data=class=Sample name=Unnamed implementation=class=SampleImplementation name=Unnamed size=129 dimension=2 data=[[-0.772762,0],[-0.753888,0],[-0.735015,0],[-0.716141,0],[-0.697267,0],[-0.678394,0],[-0.65952,0],[-0.640646,0],[-0.621773,0],[-0.602899,0],[-0.584025,0],[-0.565152,0],[-0.546278,0],[-0.527405,0],[-0.508531,0],[-0.489657,0],[-0.470784,0],[-0.45191,0],[-0.433036,0],[-0.414163,0],[-0.395289,0],[-0.376416,0],[-0.357542,0],[-0.338668,0],[-0.319795,0],[-0.300921,0],[-0.282047,0],[-0.263174,0],[-0.2443,0],[-0.225427,0],[-0.206553,0],[-0.187679,0],[-0.168806,0],[-0.149932,0],[-0.131058,0],[-0.112185,0],[-0.0933111,0],[-0.0744375,0],[-0.0555638,0],[-0.0366902,0],[-0.0178166,0],[0.00105705,1.58031],[0.0199307,1.55076],[0.0388043,1.52176],[0.0576779,1.49331],[0.0765516,1.46539],[0.0954252,1.438],[0.114299,1.41111],[0.133172,1.38473],[0.152046,1.35884],[0.17092,1.33343],[0.189793,1.3085],[0.208667,1.28404],[0.227541,1.26003],[0.246414,1.23647],[0.265288,1.21335],[0.284162,1.19067],[0.303035,1.16841],[0.321909,1.14656],[0.340782,1.12512],[0.359656,1.10409],[0.37853,1.08344],[0.397403,1.06319],[0.416277,1.04331],[0.435151,1.0238],[0.454024,1.00466],[0.472898,0.985878],[0.491771,0.967445],[0.510645,0.949357],[0.529519,0.931608],[0.548392,0.91419],[0.567266,0.897097],[0.58614,0.880325],[0.605013,0.863866],[0.623887,0.847714],[0.64276,0.831865],[0.661634,0.816312],[0.680508,0.801049],[0.699381,0.786073],[0.718255,0.771376],[0.737129,0.756953],[0.756002,0.742801],[0.774876,0.728913],[0.79375,0.715285],[0.812623,0.701911],[0.831497,0.688788],[0.85037,0.67591],[0.869244,0.663273],[0.888118,0.650872],[0.906991,0.638703],[0.925865,0.626761],[0.944739,0.615043],[0.963612,0.603544],[0.982486,0.592259],[1.00136,0],[1.02023,0],[1.03911,0],[1.05798,0],[1.07685,0],[1.09573,0],[1.1146,0],[1.13347,0],[1.15235,0],[1.17122,0],[1.1901,0],[1.20897,0],[1.22784,0],[1.24672,0],[1.26559,0],[1.28446,0],[1.30334,0],[1.32221,0],[1.34108,0],[1.35996,0],[1.37883,0],[1.39771,0],[1.41658,0],[1.43545,0],[1.45433,0],[1.4732,0],[1.49207,0],[1.51095,0],[1.52982,0],[1.54869,0],[1.56757,0],[1.58644,0],[1.60532,0],[1.62419,0],[1.64306,0]] color=red fillStyle=solid lineStyle=solid pointStyle=none lineWidth=2]"
      ]
     },
     "execution_count": 6,
     "metadata": {},
     "output_type": "execute_result"
    }
   ],
   "source": [
    "graph = dist_R.drawPDF()\n",
    "graph.setLegends([\"Weibull\"])\n",
    "graph.setTitle(\"Densité de probabilité\")\n",
    "graph.setXTitle(\"R\")\n",
    "graph"
   ]
  },
  {
   "cell_type": "markdown",
   "metadata": {},
   "source": [
    "Création du vecteur aléatoire\n",
    "---"
   ]
  },
  {
   "cell_type": "code",
   "execution_count": 7,
   "metadata": {},
   "outputs": [],
   "source": [
    "# Variable d'état aléatoire\n",
    "randomState = ot.ComposedDistribution([dist_K, dist_P, dist_R])\n",
    "# Nombre de sauts\n",
    "nbSauts = 3\n",
    "# Création du vecteur aléatoire de la chaîne\n",
    "list_of_distributions = [randomState] * nbSauts\n",
    "myDistribution = ot.BlockIndependentDistribution(list_of_distributions)"
   ]
  },
  {
   "cell_type": "markdown",
   "metadata": {},
   "source": [
    "Estimation de la sortie moyenne\n",
    "---\n",
    "On souhaite estimer la moyenne de la sortie par un plan d'expériences de type Monte-Carlo simple. \n",
    "\n",
    "On créée une fonction Python qui prend en entrée un vecteur en dimension 9 et évalue la sortie"
   ]
  },
  {
   "cell_type": "code",
   "execution_count": 8,
   "metadata": {},
   "outputs": [],
   "source": [
    "# Nombre de variables dans l'état\n",
    "nbVariablesEtat = 3  # K, P, R\n",
    "# Nombre de sauts\n",
    "nbSauts = 3\n",
    "dim = nbVariablesEtat * nbSauts\n",
    "functionPy = ot.PythonFunction(dim, 1, myFunctionChain_factorisee)"
   ]
  },
  {
   "cell_type": "markdown",
   "metadata": {},
   "source": [
    "Création d'un RandomVector qui prend en entrée le vecteur aléatoire et évalue la sortie."
   ]
  },
  {
   "cell_type": "code",
   "execution_count": 9,
   "metadata": {},
   "outputs": [],
   "source": [
    "# create the event we want to estimate the probability\n",
    "vect = ot.RandomVector(myDistribution)\n",
    "G = ot.CompositeRandomVector(functionPy, vect)"
   ]
  },
  {
   "cell_type": "code",
   "execution_count": 10,
   "metadata": {},
   "outputs": [
    {
     "name": "stdout",
     "output_type": "stream",
     "text": [
      "Sortie Moyenne = -0.479506\n"
     ]
    }
   ],
   "source": [
    "# Estime la sortie moyenne\n",
    "nbSim = 1000\n",
    "outputSample = G.getSample(nbSim)\n",
    "print(\"Sortie Moyenne = %f\" % (outputSample.computeMean()[0]))"
   ]
  },
  {
   "cell_type": "code",
   "execution_count": 11,
   "metadata": {},
   "outputs": [
    {
     "data": {
      "image/png": "[encoded data removed]",
      "text/plain": [
       "class=Graph name=y0 PDF implementation=class=GraphImplementation name=y0 PDF title=y0 PDF xTitle=y0 yTitle=PDF axes=ON grid=ON legendposition=topright legendFontSize=1 drawables=[class=Drawable name=Unnamed implementation=class=Curve name=Unnamed derived from class=DrawableImplementation name=Unnamed legend=y0 PDF data=class=Sample name=Unnamed implementation=class=SampleImplementation name=Unnamed size=180 dimension=2 data=[[-69.5066,0],[-68.1426,0],[-68.1426,0],[-68.1426,0.000366575],[-65.4146,0.000366575],[-65.4146,0],[-65.4146,0],[-65.4146,0],[-62.6867,0],[-62.6867,0],[-62.6867,0],[-62.6867,0],[-59.9587,0],[-59.9587,0],[-59.9587,0],[-59.9587,0],[-57.2308,0],[-57.2308,0],[-57.2308,0],[-57.2308,0],[-54.5028,0],[-54.5028,0],[-54.5028,0],[-54.5028,0],[-51.7749,0],[-51.7749,0],[-51.7749,0],[-51.7749,0],[-49.0469,0],[-49.0469,0],[-49.0469,0],[-49.0469,0],[-46.319,0],[-46.319,0],[-46.319,0],[-46.319,0],[-43.591,0],[-43.591,0],[-43.591,0],[-43.591,0.000366575],[-40.8631,0.000366575],[-40.8631,0],[-40.8631,0],[-40.8631,0.000733151],[-38.1351,0.000733151],[-38.1351,0],[-38.1351,0],[-38.1351,0.000733151],[-35.4072,0.000733151],[-35.4072,0],[-35.4072,0],[-35.4072,0.00109973],[-32.6792,0.00109973],[-32.6792,0],[-32.6792,0],[-32.6792,0.000366575],[-29.9512,0.000366575],[-29.9512,0],[-29.9512,0],[-29.9512,0.0029326],[-27.2233,0.0029326],[-27.2233,0],[-27.2233,0],[-27.2233,0.0029326],[-24.4953,0.0029326],[-24.4953,0],[-24.4953,0],[-24.4953,0.00366575],[-21.7674,0.00366575],[-21.7674,0],[-21.7674,0],[-21.7674,0.00659836],[-19.0394,0.00659836],[-19.0394,0],[-19.0394,0],[-19.0394,0.00879781],[-16.3115,0.00879781],[-16.3115,0],[-16.3115,0],[-16.3115,0.00806466],[-13.5835,0.00806466],[-13.5835,0],[-13.5835,0],[-13.5835,0.0102641],[-10.8556,0.0102641],[-10.8556,0],[-10.8556,0],[-10.8556,0.0230942],[-8.12763,0.0230942],[-8.12763,0],[-8.12763,0],[-8.12763,0.02676],[-5.39967,0.02676],[-5.39967,0],[-5.39967,0],[-5.39967,0.0377573],[-2.67172,0.0377573],[-2.67172,0],[-2.67172,0],[-2.67172,0.0590186],[0.0562312,0.0590186],[0.0562312,0],[0.0562312,0],[0.0562312,0.0472882],[2.78418,0.0472882],[2.78418,0],[2.78418,0],[2.78418,0.041423],[5.51214,0.041423],[5.51214,0],[5.51214,0],[5.51214,0.0238274],[8.24009,0.0238274],[8.24009,0],[8.24009,0],[8.24009,0.0186953],[10.968,0.0186953],[10.968,0],[10.968,0],[10.968,0.012097],[13.696,0.012097],[13.696,0],[13.696,0],[13.696,0.00623178],[16.4239,0.00623178],[16.4239,0],[16.4239,0],[16.4239,0.00733151],[19.1519,0.00733151],[19.1519,0],[19.1519,0],[19.1519,0.0043989],[21.8799,0.0043989],[21.8799,0],[21.8799,0],[21.8799,0.00183288],[24.6078,0.00183288],[24.6078,0],[24.6078,0],[24.6078,0.00329918],[27.3358,0.00329918],[27.3358,0],[27.3358,0],[27.3358,0.00256603],[30.0637,0.00256603],[30.0637,0],[30.0637,0],[30.0637,0.0014663],[32.7917,0.0014663],[32.7917,0],[32.7917,0],[32.7917,0.000366575],[35.5196,0.000366575],[35.5196,0],[35.5196,0],[35.5196,0.000733151],[38.2476,0.000733151],[38.2476,0],[38.2476,0],[38.2476,0.000366575],[40.9755,0.000366575],[40.9755,0],[40.9755,0],[40.9755,0.000366575],[43.7035,0.000366575],[43.7035,0],[43.7035,0],[43.7035,0.000366575],[46.4314,0.000366575],[46.4314,0],[46.4314,0],[46.4314,0],[49.1594,0],[49.1594,0],[49.1594,0],[49.1594,0.000366575],[51.8873,0.000366575],[51.8873,0],[51.8873,0],[53.2513,0]] color=red fillStyle=solid lineStyle=solid pointStyle=none lineWidth=2]"
      ]
     },
     "execution_count": 11,
     "metadata": {},
     "output_type": "execute_result"
    }
   ],
   "source": [
    "# Draw histogram\n",
    "ot.HistogramFactory().build(outputSample).drawPDF()"
   ]
  },
  {
   "cell_type": "markdown",
   "metadata": {},
   "source": [
    "Estimation de la sortie moyenne - plans d'expériences\n",
    "---\n",
    "On souhaite estimer la moyenne de la sortie et expérimenter différents plan d'expériences : Monte-Carlo simple et séquence de Sobol'."
   ]
  },
  {
   "cell_type": "code",
   "execution_count": 12,
   "metadata": {},
   "outputs": [],
   "source": [
    "Nbsimu = 1000\n",
    "ot.RandomGenerator.SetSeed(1)\n",
    "myDOE = ot.MonteCarloExperiment(myDistribution, Nbsimu)\n",
    "mySample = myDOE.generate()\n",
    "Y = ot.Sample(Nbsimu, 1)\n",
    "for rep in range(Nbsimu):\n",
    "    Y[rep, 0] = myFunctionChain_factorisee(mySample[rep, :])[0]"
   ]
  },
  {
   "cell_type": "markdown",
   "metadata": {},
   "source": [
    "Calcul de la moyenne de la sortie"
   ]
  },
  {
   "cell_type": "code",
   "execution_count": 13,
   "metadata": {},
   "outputs": [
    {
     "name": "stdout",
     "output_type": "stream",
     "text": [
      "Y moyenne : 0.587896\n"
     ]
    }
   ],
   "source": [
    "yMoyenne = Y.computeMean()[0]\n",
    "print(\"Y moyenne : %f\" % (yMoyenne))"
   ]
  },
  {
   "cell_type": "markdown",
   "metadata": {},
   "source": [
    "Pour utiliser une séquence à faible discrépance, il suffit de reprendre le script précédent avec le plan d'expérience suivant."
   ]
  },
  {
   "cell_type": "code",
   "execution_count": 14,
   "metadata": {},
   "outputs": [],
   "source": [
    "Nbsimu = 1000\n",
    "sequence = ot.SobolSequence(9)\n",
    "experiment = ot.LowDiscrepancyExperiment(sequence, myDistribution, Nbsimu)\n",
    "experiment.setRandomize(True)\n",
    "mySample = experiment.generate()"
   ]
  },
  {
   "cell_type": "code",
   "execution_count": 15,
   "metadata": {},
   "outputs": [],
   "source": [
    "ot.RandomGenerator.SetSeed(1)\n",
    "Y = ot.Sample(Nbsimu, 1)\n",
    "for rep in range(Nbsimu):\n",
    "    Y[rep, 0] = myFunctionChain_factorisee(mySample[rep, :])[0]"
   ]
  },
  {
   "cell_type": "code",
   "execution_count": 16,
   "metadata": {},
   "outputs": [
    {
     "name": "stdout",
     "output_type": "stream",
     "text": [
      "Y moyenne : 0.066150\n"
     ]
    }
   ],
   "source": [
    "yMoyenne = Y.computeMean()[0]\n",
    "print(\"Y moyenne : %f\" % (yMoyenne))"
   ]
  },
  {
   "cell_type": "markdown",
   "metadata": {},
   "source": [
    "Estimation de la probabilité de dépasser un seuil\n",
    "---"
   ]
  },
  {
   "cell_type": "markdown",
   "metadata": {},
   "source": [
    "On souhaite estimer la probabilité que la sortie dépasse un seuil par une méthode de Monte-Carlo simple."
   ]
  },
  {
   "cell_type": "code",
   "execution_count": 17,
   "metadata": {},
   "outputs": [],
   "source": [
    "Y_limite = 14.0\n",
    "event = ot.ThresholdEvent(G, ot.Greater(), Y_limite)"
   ]
  },
  {
   "cell_type": "code",
   "execution_count": 18,
   "metadata": {},
   "outputs": [],
   "source": [
    "# create a Monte Carlo algorithm\n",
    "experiment = ot.MonteCarloExperiment()\n",
    "algo = ot.ProbabilitySimulationAlgorithm(event, experiment)\n",
    "algo.setMaximumCoefficientOfVariation(0.01)\n",
    "algo.setBlockSize(100)\n",
    "algo.setMaximumOuterSampling(int(nbSim))\n",
    "algo.run()"
   ]
  },
  {
   "cell_type": "code",
   "execution_count": 19,
   "metadata": {},
   "outputs": [
    {
     "name": "stdout",
     "output_type": "stream",
     "text": [
      "P(Y > Y_limite)= 0.08290999999999994\n"
     ]
    }
   ],
   "source": [
    "# retrieve results\n",
    "result = algo.getResult()\n",
    "probability = result.getProbabilityEstimate()\n",
    "print(\"P(Y > Y_limite)=\", probability)"
   ]
  },
  {
   "cell_type": "code",
   "execution_count": 20,
   "metadata": {},
   "outputs": [
    {
     "data": {
      "image/png": "[encoded data removed]",
      "text/plain": [
       "class=Graph name=ProbabilitySimulationAlgorithm convergence graph at level 0.95 implementation=class=GraphImplementation name=ProbabilitySimulationAlgorithm convergence graph at level 0.95 title=ProbabilitySimulationAlgorithm convergence graph at level 0.95 xTitle=outer iteration yTitle=estimate axes=ON grid=ON legendposition=topright legendFontSize=1 drawables=[class=Drawable name=probability estimate implementation=class=Curve name=probability estimate derived from class=DrawableImplementation name=probability estimate legend=probability estimate data=class=Sample name=Unnamed implementation=class=SampleImplementation name=Unnamed size=1000 dimension=2 data=[[1,0.08],[2,0.095],[3,0.12],...,[998,0.082976],[999,0.082973],[1000,0.08291]] color=red fillStyle=solid lineStyle=solid pointStyle=none lineWidth=2,class=Drawable name=bounds implementation=class=Curve name=bounds derived from class=DrawableImplementation name=bounds legend=bounds data=class=Sample name=Unnamed implementation=class=SampleImplementation name=Unnamed size=1000 dimension=2 data=[[1,0.0265596],[2,0.054159],[3,0.083045],...,[998,0.081256],[999,0.0812539],[1000,0.0811924]] color=green fillStyle=solid lineStyle=solid pointStyle=none lineWidth=1,class=Drawable name=Unnamed implementation=class=Curve name=Unnamed derived from class=DrawableImplementation name=Unnamed legend= data=class=Sample name=Unnamed implementation=class=SampleImplementation name=Unnamed size=1000 dimension=2 data=[[1,0.13344],[2,0.135841],[3,0.156955],...,[998,0.0846959],[999,0.084692],[1000,0.0846276]] color=green fillStyle=solid lineStyle=solid pointStyle=none lineWidth=1]"
      ]
     },
     "execution_count": 20,
     "metadata": {},
     "output_type": "execute_result"
    }
   ],
   "source": [
    "graph = algo.drawProbabilityConvergence()\n",
    "graph.setLogScale(ot.GraphImplementation.LOGX)\n",
    "graph"
   ]
  },
  {
   "cell_type": "code",
   "execution_count": null,
   "metadata": {},
   "outputs": [],
   "source": []
  }
 ],
 "metadata": {
  "kernelspec": {
   "display_name": "Python 3",
   "language": "python",
   "name": "python3"
  },
  "language_info": {
   "codemirror_mode": {
    "name": "ipython",
    "version": 3
   },
   "file_extension": ".py",
   "mimetype": "text/x-python",
   "name": "python",
   "nbconvert_exporter": "python",
   "pygments_lexer": "ipython3",
   "version": "3.9.2"
  }
 },
 "nbformat": 4,
 "nbformat_minor": 2
}
