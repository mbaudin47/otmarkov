{
 "cells": [
  {
   "cell_type": "markdown",
   "id": "minimal-guyana",
   "metadata": {},
   "source": [
    "# Simulation of a reservoir problem\n",
    "\n",
    "## Reference\n",
    "\n",
    "* Cojazzi, Giacomo. \"The DYLAM approach for the dynamic reliability analysis of systems.\" Reliability Engineering & System Safety 52.3 (1996): 279-296.\n",
    "* Aldemir, T., Computer assisted Markov failure modelling of process control systems. IEEE Trans. on Reliab., R361 (1987) 133.\n",
    "\n",
    "## Description\n",
    "\n",
    "In (Cojazzi, 1996), p.286, the following reservoir problem is presented. \n",
    "* We are interested in the level in the reservoir depending on the time $L(t)$ in meters for $t\\in[0,1000]$, where the time is in hours. \n",
    "* The model is based on two pumps PUMP1, PUMP2 and a valve (with index 3).\n",
    "* The liquid level is initially zero: $L(0) = 0$.\n",
    "* The components are statistically independent.\n",
    "* All the components are in working condition at $t=0$.\n",
    "* The mean failure time of the components are $\\tau_1 = 219$ h (PUMP1), $\\tau_2 = 175$ h (PUMP2) and $\\tau_3 = 320$ h (valve).\n",
    "* The flow rates of the components are \n",
    "$$\n",
    "Q_1 = Q, \\quad Q_2 = \\frac{Q}{2}, \\quad Q_3 = -Q\n",
    "$$\n",
    "where $Q = 0.6$ m/h. \n",
    "* If nothing happens, the level is constant and equal to zero.\n",
    "\n",
    "In (Cojazzi, 1996), p.286, we consider the case 1, where the following controls are used.\n",
    "\n",
    "| Region | Liquid level Z | PUMP1 | PUMP2 | VALVE |\n",
    "|---|---|---|---|---|\n",
    "| 1 | $L\\leq -1$ | on | on | close |\n",
    "| 2 | $-1 \\leq L\\leq 1$ | on | off | open |\n",
    "| 3 | $1 \\leq L$ | off | off | open |\n",
    "\n",
    "Each component is associated to a state variable $K_1$ (pump 1), $K_2$ (pump 2) and $K_3$ (valve), which is equal to 1 if the component is active, or 0 if it fails. \n",
    "\n",
    "The level satisfies the following the differential equation:\n",
    "\n",
    "$$\n",
    "\\frac{dL(t)}{dt} = Q_{net}(t)\n",
    "$$\n",
    "\n",
    "for $t\\in[0,1000]$, where $Q_{net}$ is defined by:\n",
    "\n",
    "$$\n",
    "Q_{net}(t) = K_1(t) Q + K_2(t) \\frac{Q}{2} + K_3(t) Q,\n",
    "$$\n",
    "\n",
    "where $K_i(t) = 1$ if the component is on and zero otherwise, for $i=1,2,3$.\n",
    "Notice that the previous equation in the paper (eq. 12) is wrong.\n",
    "\n",
    "The solution of the differential equation is solved based on Euler's method:\n",
    "\n",
    "$$\n",
    "L(t + \\Delta t) = L(t) + Q_{net}(t) \\Delta t\n",
    "$$\n",
    "\n",
    "for $t\\in[0,1000]$, where $\\Delta t$ is the time step.\n",
    "\n"
   ]
  },
  {
   "cell_type": "code",
   "execution_count": 1,
   "id": "interpreted-watch",
   "metadata": {},
   "outputs": [],
   "source": [
    "import openturns as ot\n",
    "from scipy.integrate import odeint\n",
    "import numpy as np\n",
    "import pylab as pl"
   ]
  },
  {
   "cell_type": "code",
   "execution_count": 2,
   "id": "miniature-couple",
   "metadata": {},
   "outputs": [],
   "source": [
    "tau_pump1 = 219.0\n",
    "pump1_lifetime = ot.Exponential(1.0 / tau_pump1)"
   ]
  },
  {
   "cell_type": "code",
   "execution_count": 3,
   "id": "physical-relation",
   "metadata": {},
   "outputs": [],
   "source": [
    "tau_pump2 = 175.0\n",
    "pump2_lifetime = ot.Exponential(1.0 / tau_pump2)"
   ]
  },
  {
   "cell_type": "code",
   "execution_count": 4,
   "id": "secure-toddler",
   "metadata": {},
   "outputs": [],
   "source": [
    "tau_valve = 320.0\n",
    "valve_lifetime = ot.Exponential(1.0 / tau_valve)"
   ]
  },
  {
   "cell_type": "code",
   "execution_count": 5,
   "id": "injured-freeware",
   "metadata": {},
   "outputs": [],
   "source": [
    "lifetime = ot.ComposedDistribution([pump1_lifetime, pump2_lifetime, valve_lifetime])"
   ]
  },
  {
   "cell_type": "code",
   "execution_count": 6,
   "id": "detailed-viewer",
   "metadata": {},
   "outputs": [],
   "source": [
    "Q = 0.6  # Flow rate m/h"
   ]
  },
  {
   "cell_type": "code",
   "execution_count": 7,
   "id": "mature-exercise",
   "metadata": {},
   "outputs": [],
   "source": [
    "time_step = 1.0  # h"
   ]
  },
  {
   "cell_type": "code",
   "execution_count": 8,
   "id": "conventional-movie",
   "metadata": {},
   "outputs": [],
   "source": [
    "t_final = 1000.0  # h"
   ]
  },
  {
   "cell_type": "code",
   "execution_count": 9,
   "id": "amazing-texas",
   "metadata": {},
   "outputs": [],
   "source": [
    "def height_change_rate(L, t, Q):\n",
    "    if L <= 1.0:\n",
    "        K1 = 1.0  # Pump 1 is on\n",
    "    else:\n",
    "        K1 = 0.0\n",
    "\n",
    "    if L <= -1.0:\n",
    "        K2 = 1.0  # Pump 2 is on\n",
    "    else:\n",
    "        K2 = 0.0\n",
    "    if L >= -1.0:\n",
    "        K3 = 1.0  # Valve is on\n",
    "    else:\n",
    "        K3 = 0.0\n",
    "    Q_net = K1 * Q + K2 * Q / 2.0 - K3 * Q\n",
    "    dLdt = [Q_net]\n",
    "    return dLdt"
   ]
  },
  {
   "cell_type": "code",
   "execution_count": 10,
   "id": "ceramic-updating",
   "metadata": {},
   "outputs": [],
   "source": [
    "t0 = 0.0  # Initial time\n",
    "L0 = 0.0  # Initial height"
   ]
  },
  {
   "cell_type": "code",
   "execution_count": 12,
   "id": "5c8b8191",
   "metadata": {},
   "outputs": [
    {
     "data": {
      "text/plain": [
       "0.0"
      ]
     },
     "execution_count": 12,
     "metadata": {},
     "output_type": "execute_result"
    }
   ],
   "source": [
    "t = np.linspace(t0, t_final)\n",
    "L = odeint(height_change_rate, L0, t, args=(Q, ))\n",
    "L_final = L[-1, 0]\n",
    "L_final"
   ]
  },
  {
   "cell_type": "code",
   "execution_count": 13,
   "id": "stopped-crawford",
   "metadata": {},
   "outputs": [],
   "source": [
    "def simulate(t0, L0, t_final, number_of_time_steps, Q):\n",
    "    t = np.linspace(t0, t_final, number_of_time_steps)\n",
    "    L = odeint(height_change_rate, L0, t, args=(Q, ))\n",
    "    return t, L"
   ]
  },
  {
   "cell_type": "code",
   "execution_count": 14,
   "id": "8bb3e736",
   "metadata": {},
   "outputs": [],
   "source": [
    "def simulate_and_plot(t0, L0, t_final, number_of_time_steps, Q):\n",
    "    t, L = simulate(t0, L0, t_final, number_of_time_steps, Q)\n",
    "    _ = pl.plot(t, L)\n",
    "    pl.xlabel(\"t (h)\")\n",
    "    _ = pl.ylabel(\"L (m)\")"
   ]
  },
  {
   "cell_type": "code",
   "execution_count": 15,
   "id": "4b4f66c2",
   "metadata": {},
   "outputs": [],
   "source": [
    "number_of_time_steps = 1000"
   ]
  },
  {
   "cell_type": "markdown",
   "id": "515a135a",
   "metadata": {},
   "source": [
    "## Simulate with all ok"
   ]
  },
  {
   "cell_type": "code",
   "execution_count": 16,
   "id": "3d1a00ad",
   "metadata": {},
   "outputs": [
    {
     "data": {
      "image/png": "[encoded data removed]",
      "text/plain": [
       "<Figure size 432x288 with 1 Axes>"
      ]
     },
     "metadata": {
      "needs_background": "light"
     },
     "output_type": "display_data"
    }
   ],
   "source": [
    "simulate_and_plot(t0, L0, t_final, number_of_time_steps, Q)"
   ]
  },
  {
   "cell_type": "markdown",
   "id": "minor-detail",
   "metadata": {},
   "source": [
    "The level is constant."
   ]
  },
  {
   "cell_type": "markdown",
   "id": "pediatric-memphis",
   "metadata": {},
   "source": [
    "## Simulate random failures"
   ]
  },
  {
   "cell_type": "code",
   "execution_count": 17,
   "id": "growing-filename",
   "metadata": {},
   "outputs": [],
   "source": [
    "life_pump1, life_pump2, life_valve = lifetime.getRealization()"
   ]
  },
  {
   "cell_type": "code",
   "execution_count": 18,
   "id": "subsequent-isolation",
   "metadata": {},
   "outputs": [
    {
     "data": {
      "text/plain": [
       "(101.22868113069316, 21.81387029499254, 640.1393759292787)"
      ]
     },
     "execution_count": 18,
     "metadata": {},
     "output_type": "execute_result"
    }
   ],
   "source": [
    "life_pump1, life_pump2, life_valve"
   ]
  },
  {
   "cell_type": "code",
   "execution_count": null,
   "id": "compressed-security",
   "metadata": {},
   "outputs": [],
   "source": []
  }
 ],
 "metadata": {
  "kernelspec": {
   "display_name": "Python 3",
   "language": "python",
   "name": "python3"
  },
  "language_info": {
   "codemirror_mode": {
    "name": "ipython",
    "version": 3
   },
   "file_extension": ".py",
   "mimetype": "text/x-python",
   "name": "python",
   "nbconvert_exporter": "python",
   "pygments_lexer": "ipython3",
   "version": "3.9.2"
  }
 },
 "nbformat": 4,
 "nbformat_minor": 5
}
